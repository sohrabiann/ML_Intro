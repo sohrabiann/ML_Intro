{
 "cells": [
  {
   "cell_type": "markdown",
   "metadata": {},
   "source": [
    "# Machine Learning Pipeline for IP Activity Dataset using Random Forest for Feature Selection\n",
    "\n",
    "## Introduction\n",
    "In this script, I explore and analyze an IP Activity dataset, implementing a machine learning pipeline using RandomForestClassifier for binary classification. The code includes data loading, preprocessing, model training, feature importance analysis, and hyperparameter tuning.\n",
    "\n",
    "## Libraries and Data Loading\n",
    "Firstly, I import essential libraries such as:\n",
    "\n",
    "- `pandas` and `numpy` for data manipulation.\n",
    "- `matplotlib` and `seaborn` for data visualization.\n",
    "- `sklearn` for machine learning models and metrics.\n",
    "- `torch` and its submodules for potential deep learning applications.\n",
    "\n",
    "I load the dataset 'IP_Activity_Dataset_5000.csv' and display its basic structure, including the number of observations, variables, and class distribution in the 'label' column.\n",
    "\n",
    "## Data Preprocessing\n",
    "I split the dataset into features (`X`) and labels (`y`), then perform a stratified split into training and test sets with a 50-50 ratio. Stratified splitting ensures that both sets have a similar distribution of classes. \n",
    "\n",
    "I standardize the features using `StandardScaler` to normalize the data, improving model performance.\n",
    "\n",
    "## Initial RandomForest Model\n",
    "I train a RandomForestClassifier with specific hyperparameters (5 trees and max depth of 5) and time the training process. After predicting on the test set, I calculate and print the accuracy, F1-score, confusion matrix, and execution time.\n",
    "\n",
    "## Feature Importance and Selection\n",
    "Using a second RandomForest model with different hyperparameters (10 trees and max depth of 10), I determine the feature importances. I plot these importances and select features that cumulatively contribute to 90% of the importance.\n",
    "\n",
    "## Refined Model with Selected Features\n",
    "I retrain the RandomForest model on the reduced feature set, again recording its performance in terms of accuracy, F1-score, confusion matrix, and execution time. \n",
    "\n",
    "## Hyperparameter Tuning using GridSearchCV\n",
    "I employ `GridSearchCV` to find optimal hyperparameters for the RandomForest model. I use a parameter grid with two options for the number of trees and max depth, perform cross-validation, and time this process. I print the best parameters and the best cross-validation score.\n",
    "\n",
    "## Final Model Training with Optimal Hyperparameters\n",
    "Using the optimal parameters found (10 trees and max depth of 10), I train the final RandomForest model on the selected features. I then evaluate and print its performance metrics (accuracy, F1-score, confusion matrix) and execution time.\n",
    "\n",
    "## Summary\n",
    "This script showcases a thorough approach to binary classification using RandomForestClassifier. It covers data preprocessing, model training, feature importance analysis, and hyperparameter tuning. The use of stratified splitting and standardization ensures robust data handling, while GridSearchCV aids in finding the most effective model settings.\n"
   ]
  },
  {
   "cell_type": "code",
   "execution_count": 1,
   "metadata": {},
   "outputs": [],
   "source": [
    "##IMPORTS\n",
    "import matplotlib.pyplot as plt \n",
    "%matplotlib inline\n",
    "\n",
    "import pandas as pd \n",
    "import numpy as np\n",
    "import seaborn as sns\n",
    "\n",
    "from sklearn.model_selection import train_test_split, GridSearchCV\n",
    "from sklearn.preprocessing import StandardScaler\n",
    "from sklearn.linear_model import LinearRegression, LogisticRegression, Ridge, Lasso, LassoCV\n",
    "from sklearn.ensemble import RandomForestClassifier\n",
    "from sklearn.metrics import mean_squared_error, accuracy_score, f1_score, confusion_matrix, roc_curve, auc, roc_auc_score\n",
    "\n",
    "import time\n",
    "import random\n",
    "\n",
    "import torch\n",
    "import torch.nn as nn\n",
    "import torch.optim as optim\n",
    "from torch.utils.data import DataLoader, TensorDataset\n",
    "\n",
    "\n",
    "\n"
   ]
  },
  {
   "cell_type": "code",
   "execution_count": 2,
   "metadata": {},
   "outputs": [
    {
     "name": "stdout",
     "output_type": "stream",
     "text": [
      "# of observations: 5000\n",
      "# of variables: 9\n",
      "Observations for each class in 'label':\n",
      " 0    4500\n",
      "1     500\n",
      "Name: label, dtype: int64\n",
      "   requests  request-interval  request-popularity        bytes  delivery-time  \\\n",
      "0        18        378.605278            1.000000    29.667209      38.833333   \n",
      "1         5          0.524200            1.000000    19.226953     204.600000   \n",
      "2      1141         66.912231            0.167647    19.847204     142.072963   \n",
      "3        80          2.472875            0.418750  1769.312634    1330.787500   \n",
      "4         1          0.000000            1.000000     0.000000       2.000000   \n",
      "\n",
      "   hit-rate  nodes  contents  label  \n",
      "0  0.888889      2         9      0  \n",
      "1  1.000000      1         5      0  \n",
      "2  0.021520      5       703      1  \n",
      "3  1.000000      2        76      0  \n",
      "4  1.000000      1         1      0  \n"
     ]
    }
   ],
   "source": [
    "\n",
    "df = pd.read_csv(\"IP_Activity_Dataset_5000.csv\")\n",
    "print(\"# of observations:\", len(df))\n",
    "print(\"# of variables:\", df.shape[1])\n",
    "print(\"Observations for each class in 'label':\\n\", df['label'].value_counts())\n",
    "nn = df.shape[1]\n",
    "print(df.head())"
   ]
  },
  {
   "cell_type": "code",
   "execution_count": 3,
   "metadata": {},
   "outputs": [],
   "source": [
    "\n",
    "X = df.drop('label', axis=1)\n",
    "y = df['label']\n",
    "\n",
    "\n",
    "X_train, X_test, y_train, y_test = train_test_split(X, y, test_size=0.5, stratify=y, random_state=42)"
   ]
  },
  {
   "cell_type": "code",
   "execution_count": 4,
   "metadata": {},
   "outputs": [],
   "source": [
    "\n",
    "scaler = StandardScaler()\n",
    "X_train = scaler.fit_transform(X_train)\n",
    "X_test = scaler.transform(X_test)"
   ]
  },
  {
   "cell_type": "code",
   "execution_count": 5,
   "metadata": {},
   "outputs": [
    {
     "name": "stdout",
     "output_type": "stream",
     "text": [
      "Accuracy: 0.9916\n",
      "\n",
      "F1-score: 0.9568788501026694\n",
      "\n",
      "Confusion matrix:\n",
      " [[2246    4]\n",
      " [  17  233]]\n",
      "\n",
      "Execution time: 0.024991750717163086\n"
     ]
    }
   ],
   "source": [
    "\n",
    "rf = RandomForestClassifier(n_estimators=5, max_depth=5, random_state=42)\n",
    "\n",
    "start_time = time.time()\n",
    "\n",
    "rf.fit(X_train, y_train)\n",
    "\n",
    "end_time = time.time()\n",
    "\n",
    "\n",
    "y_pred = rf.predict(X_test)\n",
    "accuracy = accuracy_score(y_test, y_pred)\n",
    "f1 = f1_score(y_test, y_pred)\n",
    "\n",
    "confusion = confusion_matrix(y_test, y_pred)\n",
    "exce = end_time - start_time\n",
    "\n",
    "print(\"Accuracy:\", accuracy)\n",
    "print(\"\\nF1-score:\", f1)\n",
    "print(\"\\nConfusion matrix:\\n\", confusion)\n",
    "print(\"\\nExecution time:\", exce)"
   ]
  },
  {
   "cell_type": "code",
   "execution_count": 6,
   "metadata": {},
   "outputs": [
    {
     "data": {
      "image/png": "[encoded data removed]",
      "text/plain": [
       "<Figure size 700x300 with 1 Axes>"
      ]
     },
     "metadata": {},
     "output_type": "display_data"
    },
    {
     "name": "stdout",
     "output_type": "stream",
     "text": [
      "Selected features and their importance scores:\n",
      "\n",
      "Feature 0: 0.2867621039330823\n",
      "Feature 7: 0.2755034561832739\n",
      "Feature 2: 0.19684897744187677\n",
      "Feature 5: 0.10369793421813603\n",
      "\n",
      "Accuracy: 0.9948\n",
      "\n",
      "F1-score: 0.9738430583501007\n",
      "\n",
      "Confusion matrix:\n",
      " [[2245    5]\n",
      " [   8  242]]\n",
      "\n",
      "Time Execution: 0.014729976654052734\n"
     ]
    }
   ],
   "source": [
    "\n",
    "\n",
    "\n",
    "rf = RandomForestClassifier(n_estimators=10, max_depth=10, random_state=42)\n",
    "\n",
    "rf.fit(X_train, y_train)\n",
    "importances = rf.feature_importances_\n",
    "indices = np.argsort(importances)[::-1]\n",
    "cum_important = np.cumsum(importances[indices])\n",
    "selected_features = [feature for feature, cumulative_importance in zip(indices, cum_important) if cumulative_importance <= 0.9]\n",
    "rf.feature_names_in_ = [df.columns[i] for i in range(X_train.shape[1])]\n",
    "\n",
    "\n",
    "plt.figure(figsize=(7, 3))\n",
    "plt.barh(range(X_train.shape[1]), importances[indices], )\n",
    "plt.yticks(range(X_train.shape[1]), indices)\n",
    "plt.xlabel('Importance ')\n",
    "plt.ylabel('Feature')\n",
    "plt.title('Feature Importances')\n",
    "plt.show()\n",
    "\n",
    "\n",
    "print(\"Selected features and their importance scores:\\n\")\n",
    "for rf.feature_names_in_ in selected_features:\n",
    "    print(f\"Feature {rf.feature_names_in_}: {importances[rf.feature_names_in_]}\")\n",
    "\n",
    "\n",
    "Xtrain_sel = X_train[:, selected_features]\n",
    "X_test_selected = X_test[:, selected_features]\n",
    "\n",
    "\n",
    "start_time = time.time()\n",
    "rf.fit(Xtrain_sel, y_train)\n",
    "end_time = time.time()\n",
    "\n",
    "\n",
    "y_pred = rf.predict(X_test_selected)\n",
    "accuracy = accuracy_score(y_test, y_pred)\n",
    "f1 = f1_score(y_test, y_pred)\n",
    "confusion = confusion_matrix(y_test, y_pred)\n",
    "execution_time = end_time - start_time\n",
    "\n",
    "print(\"\\nAccuracy:\", accuracy)\n",
    "print(\"\\nF1-score:\", f1)\n",
    "print(\"\\nConfusion matrix:\\n\", confusion)\n",
    "print(\"\\nTime Execution:\", execution_time)"
   ]
  },
  {
   "cell_type": "code",
   "execution_count": 7,
   "metadata": {},
   "outputs": [
    {
     "name": "stdout",
     "output_type": "stream",
     "text": [
      "Optimal hyperparameters: {'max_depth': 10, 'n_estimators': 10}\n",
      "Optimal cross-validation score: 0.9963990392319997\n",
      "\n",
      "Accuracy: 0.9948\n",
      "\n",
      "F1-score: 0.9738430583501007\n",
      "\n",
      "Confusion matrix:\n",
      " [[2245    5]\n",
      " [   8  242]]\n",
      "\n",
      "Execution time: 0.2546350955963135\n"
     ]
    }
   ],
   "source": [
    "\n",
    "param_grid = {'n_estimators': [10, 20], 'max_depth': [10, 20]}\n",
    "grid_search = GridSearchCV(RandomForestClassifier(random_state=42), param_grid, cv=3)\n",
    "start_time = time.time()\n",
    "grid_search.fit(Xtrain_sel, y_train)\n",
    "end_time = time.time()\n",
    "\n",
    "\n",
    "print(\"Optimal hyperparameters:\", grid_search.best_params_)\n",
    "print(\"Optimal cross-validation score:\", grid_search.best_score_)\n",
    "\n",
    "# after runnning line abouve, found that best params are n_estimators=10, max_depth=10\n",
    "rf_best = RandomForestClassifier(n_estimators=10,max_depth=10, random_state=42)\n",
    "rf_best.fit(Xtrain_sel, y_train)\n",
    "\n",
    "\n",
    "y_pred = rf_best.predict(X_test_selected)\n",
    "accuracy = accuracy_score(y_test, y_pred)\n",
    "f1 = f1_score(y_test, y_pred)\n",
    "confusion = confusion_matrix(y_test, y_pred)\n",
    "execution_time = end_time - start_time\n",
    "\n",
    "print(\"\\nAccuracy:\", accuracy)\n",
    "print(\"\\nF1-score:\", f1)\n",
    "print(\"\\nConfusion matrix:\\n\", confusion)\n",
    "print(\"\\nExecution time:\", execution_time)"
   ]
  }
 ],
 "metadata": {
  "kernelspec": {
   "display_name": "Python 3 (ipykernel)",
   "language": "python",
   "name": "python3"
  },
  "language_info": {
   "codemirror_mode": {
    "name": "ipython",
    "version": 3
   },
   "file_extension": ".py",
   "mimetype": "text/x-python",
   "name": "python",
   "nbconvert_exporter": "python",
   "pygments_lexer": "ipython3",
   "version": "3.11.4"
  },
  "vscode": {
   "interpreter": {
    "hash": "ad2bdc8ecc057115af97d19610ffacc2b4e99fae6737bb82f5d7fb13d2f2c186"
   }
  }
 },
 "nbformat": 4,
 "nbformat_minor": 4
}
